{
  "nbformat": 4,
  "nbformat_minor": 0,
  "metadata": {
    "colab": {
      "name": "Text Processing",
      "provenance": [],
      "authorship_tag": "ABX9TyMR6ChgRQ5bnBvBMdwUlexk",
      "include_colab_link": true
    },
    "kernelspec": {
      "name": "python3",
      "display_name": "Python 3"
    }
  },
  "cells": [
    {
      "cell_type": "markdown",
      "metadata": {
        "id": "view-in-github",
        "colab_type": "text"
      },
      "source": [
        "<a href=\"https://colab.research.google.com/github/TapanManu/Text-Mining/blob/master/Text_Processing.ipynb\" target=\"_parent\"><img src=\"https://colab.research.google.com/assets/colab-badge.svg\" alt=\"Open In Colab\"/></a>"
      ]
    },
    {
      "cell_type": "code",
      "metadata": {
        "id": "wPfcMGG6LbNG",
        "colab_type": "code",
        "colab": {}
      },
      "source": [
        "Text = \"For as long as I remember, I just wanted to do what was right\""
      ],
      "execution_count": 0,
      "outputs": []
    },
    {
      "cell_type": "code",
      "metadata": {
        "id": "XBr4GWzUL9he",
        "colab_type": "code",
        "colab": {
          "base_uri": "https://localhost:8080/",
          "height": 34
        },
        "outputId": "92ee762d-ac87-4f26-cfd8-483154cd9bab"
      },
      "source": [
        "long_words = [t for t in Text.split(' ') if len(t)>3]\n",
        "long_words"
      ],
      "execution_count": 5,
      "outputs": [
        {
          "output_type": "execute_result",
          "data": {
            "text/plain": [
              "['long', 'remember,', 'just', 'wanted', 'what', 'right']"
            ]
          },
          "metadata": {
            "tags": []
          },
          "execution_count": 5
        }
      ]
    },
    {
      "cell_type": "code",
      "metadata": {
        "id": "12uqb7PwMKzE",
        "colab_type": "code",
        "colab": {
          "base_uri": "https://localhost:8080/",
          "height": 34
        },
        "outputId": "12381d90-2fa5-43c6-c7f2-123b82025315"
      },
      "source": [
        "cap = [t for t in Text.split(' ') if t.istitle()]\n",
        "cap"
      ],
      "execution_count": 6,
      "outputs": [
        {
          "output_type": "execute_result",
          "data": {
            "text/plain": [
              "['For', 'I', 'I']"
            ]
          },
          "metadata": {
            "tags": []
          },
          "execution_count": 6
        }
      ]
    },
    {
      "cell_type": "code",
      "metadata": {
        "id": "EYmus6tpOMru",
        "colab_type": "code",
        "colab": {
          "base_uri": "https://localhost:8080/",
          "height": 34
        },
        "outputId": "ad48aa2f-2f1b-4449-ac06-fb3a2d2e41de"
      },
      "source": [
        "end_s = [w for w in Text.split(' ') if w.endswith('s')]\n",
        "end_s"
      ],
      "execution_count": 7,
      "outputs": [
        {
          "output_type": "execute_result",
          "data": {
            "text/plain": [
              "['as', 'as', 'was']"
            ]
          },
          "metadata": {
            "tags": []
          },
          "execution_count": 7
        }
      ]
    },
    {
      "cell_type": "markdown",
      "metadata": {
        "id": "DwpZZGMROoh6",
        "colab_type": "text"
      },
      "source": [
        "Unique words"
      ]
    },
    {
      "cell_type": "code",
      "metadata": {
        "id": "k8WwyCc2Or_x",
        "colab_type": "code",
        "colab": {
          "base_uri": "https://localhost:8080/",
          "height": 225
        },
        "outputId": "82fc03b8-5947-4ebc-9668-86c72334c9c9"
      },
      "source": [
        "unique = set(Text.split())\n",
        "unique"
      ],
      "execution_count": 9,
      "outputs": [
        {
          "output_type": "execute_result",
          "data": {
            "text/plain": [
              "{'For',\n",
              " 'I',\n",
              " 'as',\n",
              " 'do',\n",
              " 'just',\n",
              " 'long',\n",
              " 'remember,',\n",
              " 'right',\n",
              " 'to',\n",
              " 'wanted',\n",
              " 'was',\n",
              " 'what'}"
            ]
          },
          "metadata": {
            "tags": []
          },
          "execution_count": 9
        }
      ]
    },
    {
      "cell_type": "markdown",
      "metadata": {
        "id": "mmyZZN_uQW3g",
        "colab_type": "text"
      },
      "source": [
        "Text to Chars"
      ]
    },
    {
      "cell_type": "code",
      "metadata": {
        "id": "4KwgOnq5O2hL",
        "colab_type": "code",
        "colab": {
          "base_uri": "https://localhost:8080/",
          "height": 34
        },
        "outputId": "02126a83-dd5f-41c7-f488-3c8d1fd6201f"
      },
      "source": [
        "capital = \"ouagadougou\"\n",
        "words = capital.split('ou')\n",
        "words"
      ],
      "execution_count": 10,
      "outputs": [
        {
          "output_type": "execute_result",
          "data": {
            "text/plain": [
              "['', 'agad', 'g', '']"
            ]
          },
          "metadata": {
            "tags": []
          },
          "execution_count": 10
        }
      ]
    },
    {
      "cell_type": "code",
      "metadata": {
        "id": "S5Bm_liOQvBS",
        "colab_type": "code",
        "colab": {
          "base_uri": "https://localhost:8080/",
          "height": 34
        },
        "outputId": "4d55a841-8bf4-45bc-adc6-3a3cdd63002a"
      },
      "source": [
        "\"ou\".join(words)"
      ],
      "execution_count": 11,
      "outputs": [
        {
          "output_type": "execute_result",
          "data": {
            "text/plain": [
              "'ouagadougou'"
            ]
          },
          "metadata": {
            "tags": []
          },
          "execution_count": 11
        }
      ]
    },
    {
      "cell_type": "markdown",
      "metadata": {
        "id": "_jxjNZsuRAL5",
        "colab_type": "text"
      },
      "source": [
        "Text Cleaning"
      ]
    },
    {
      "cell_type": "code",
      "metadata": {
        "id": "nqf9yt70RCMP",
        "colab_type": "code",
        "colab": {
          "base_uri": "https://localhost:8080/",
          "height": 34
        },
        "outputId": "fd62cade-f5cd-415f-bcfd-7bddd9c7147e"
      },
      "source": [
        "sent = \"     A quick brown fox jumped over the lazy dog.  \"\n",
        "sent.split(' ')\n",
        "print (type(sent))"
      ],
      "execution_count": 25,
      "outputs": [
        {
          "output_type": "stream",
          "text": [
            "<class 'str'>\n"
          ],
          "name": "stdout"
        }
      ]
    },
    {
      "cell_type": "code",
      "metadata": {
        "id": "pRPGXlMaRSFr",
        "colab_type": "code",
        "colab": {
          "base_uri": "https://localhost:8080/",
          "height": 34
        },
        "outputId": "012ee251-6040-4f32-9b32-75eb9a0e93ec"
      },
      "source": [
        "senti = sent.strip().split(' ')\n",
        "senti"
      ],
      "execution_count": 26,
      "outputs": [
        {
          "output_type": "execute_result",
          "data": {
            "text/plain": [
              "['A', 'quick', 'brown', 'fox', 'jumped', 'over', 'the', 'lazy', 'dog.']"
            ]
          },
          "metadata": {
            "tags": []
          },
          "execution_count": 26
        }
      ]
    },
    {
      "cell_type": "code",
      "metadata": {
        "id": "2seRP3OoR2TW",
        "colab_type": "code",
        "colab": {
          "base_uri": "https://localhost:8080/",
          "height": 34
        },
        "outputId": "0f4b1c36-ec04-4ae8-ce99-6a7601db97fa"
      },
      "source": [
        "sent.find('o')"
      ],
      "execution_count": 27,
      "outputs": [
        {
          "output_type": "execute_result",
          "data": {
            "text/plain": [
              "15"
            ]
          },
          "metadata": {
            "tags": []
          },
          "execution_count": 27
        }
      ]
    },
    {
      "cell_type": "code",
      "metadata": {
        "id": "rV-ru3LPSGeS",
        "colab_type": "code",
        "colab": {
          "base_uri": "https://localhost:8080/",
          "height": 34
        },
        "outputId": "988ce8e6-7e04-4a0c-812c-1671f90ab62f"
      },
      "source": [
        "sent = sent.strip()\n",
        "sent.replace('o','O')"
      ],
      "execution_count": 31,
      "outputs": [
        {
          "output_type": "execute_result",
          "data": {
            "text/plain": [
              "'A quick brOwn fOx jumped Over the lazy dOg.'"
            ]
          },
          "metadata": {
            "tags": []
          },
          "execution_count": 31
        }
      ]
    },
    {
      "cell_type": "code",
      "metadata": {
        "id": "8OKdATL3SZXs",
        "colab_type": "code",
        "colab": {}
      },
      "source": [
        ""
      ],
      "execution_count": 0,
      "outputs": []
    }
  ]
}
