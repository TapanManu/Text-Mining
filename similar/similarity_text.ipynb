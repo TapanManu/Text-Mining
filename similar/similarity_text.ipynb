{
  "nbformat": 4,
  "nbformat_minor": 0,
  "metadata": {
    "colab": {
      "name": "similarity_text.ipynb",
      "provenance": [],
      "authorship_tag": "ABX9TyNdfvZjNFUREA0oCBOBHAjN",
      "include_colab_link": true
    },
    "kernelspec": {
      "name": "python3",
      "display_name": "Python 3"
    }
  },
  "cells": [
    {
      "cell_type": "markdown",
      "metadata": {
        "id": "view-in-github",
        "colab_type": "text"
      },
      "source": [
        "<a href=\"https://colab.research.google.com/github/TapanManu/Text-Mining/blob/master/similar/similarity_text.ipynb\" target=\"_parent\"><img src=\"https://colab.research.google.com/assets/colab-badge.svg\" alt=\"Open In Colab\"/></a>"
      ]
    },
    {
      "cell_type": "code",
      "metadata": {
        "id": "p0ZfdHK5RT5z",
        "colab_type": "code",
        "colab": {
          "base_uri": "https://localhost:8080/",
          "height": 69
        },
        "outputId": "ca63d359-95d2-4eca-97b4-2647cada4099"
      },
      "source": [
        "import nltk\n",
        "from nltk.corpus import wordnet as wn\n",
        "nltk.download('wordnet')"
      ],
      "execution_count": 3,
      "outputs": [
        {
          "output_type": "stream",
          "text": [
            "[nltk_data] Downloading package wordnet to /root/nltk_data...\n",
            "[nltk_data]   Unzipping corpora/wordnet.zip.\n"
          ],
          "name": "stdout"
        },
        {
          "output_type": "execute_result",
          "data": {
            "text/plain": [
              "True"
            ]
          },
          "metadata": {
            "tags": []
          },
          "execution_count": 3
        }
      ]
    },
    {
      "cell_type": "code",
      "metadata": {
        "id": "IPY1Ulr3ReW6",
        "colab_type": "code",
        "colab": {}
      },
      "source": [
        "deer = wn.synset('deer.n.01')\n",
        "#deer to have noun meaning and first of noun meanings\n",
        "\n",
        "elk = wn.synset('elk.n.01')"
      ],
      "execution_count": 4,
      "outputs": []
    },
    {
      "cell_type": "code",
      "metadata": {
        "id": "C-tNYjj3SAt8",
        "colab_type": "code",
        "colab": {
          "base_uri": "https://localhost:8080/",
          "height": 34
        },
        "outputId": "6708d1a0-78c8-4b55-d21c-47d83160e8db"
      },
      "source": [
        "deer.path_similarity(elk)"
      ],
      "execution_count": 7,
      "outputs": [
        {
          "output_type": "execute_result",
          "data": {
            "text/plain": [
              "0.5"
            ]
          },
          "metadata": {
            "tags": []
          },
          "execution_count": 7
        }
      ]
    },
    {
      "cell_type": "code",
      "metadata": {
        "id": "XflBqjRDSK_H",
        "colab_type": "code",
        "colab": {
          "base_uri": "https://localhost:8080/",
          "height": 34
        },
        "outputId": "4fb16cfb-6334-429c-8011-d35c6d7cdbd7"
      },
      "source": [
        "horse = wn.synset('horse.n.01')\n",
        "deer.path_similarity(horse)"
      ],
      "execution_count": 8,
      "outputs": [
        {
          "output_type": "execute_result",
          "data": {
            "text/plain": [
              "0.14285714285714285"
            ]
          },
          "metadata": {
            "tags": []
          },
          "execution_count": 8
        }
      ]
    },
    {
      "cell_type": "markdown",
      "metadata": {
        "id": "A_zKUPk5SS8u",
        "colab_type": "text"
      },
      "source": [
        "using info criteria to find lin similarity"
      ]
    },
    {
      "cell_type": "code",
      "metadata": {
        "id": "8Ufxkw-ESXvF",
        "colab_type": "code",
        "colab": {
          "base_uri": "https://localhost:8080/",
          "height": 69
        },
        "outputId": "a1fbd47d-eaf8-4428-f978-ce463dddc873"
      },
      "source": [
        "from nltk.corpus import wordnet_ic\n",
        "nltk.download('wordnet_ic')"
      ],
      "execution_count": 10,
      "outputs": [
        {
          "output_type": "stream",
          "text": [
            "[nltk_data] Downloading package wordnet_ic to /root/nltk_data...\n",
            "[nltk_data]   Unzipping corpora/wordnet_ic.zip.\n"
          ],
          "name": "stdout"
        },
        {
          "output_type": "execute_result",
          "data": {
            "text/plain": [
              "True"
            ]
          },
          "metadata": {
            "tags": []
          },
          "execution_count": 10
        }
      ]
    },
    {
      "cell_type": "code",
      "metadata": {
        "id": "g-klnsEhSifD",
        "colab_type": "code",
        "colab": {
          "base_uri": "https://localhost:8080/",
          "height": 52
        },
        "outputId": "79ae0d2e-0ada-45f9-b6d3-895d855524ea"
      },
      "source": [
        "brown_ic = wordnet_ic.ic('ic-brown.dat')\n",
        "print(deer.lin_similarity(elk,brown_ic))\n",
        "deer.lin_similarity(horse,brown_ic)"
      ],
      "execution_count": 14,
      "outputs": [
        {
          "output_type": "stream",
          "text": [
            "0.8623778273893673\n"
          ],
          "name": "stdout"
        },
        {
          "output_type": "execute_result",
          "data": {
            "text/plain": [
              "0.7726998936065773"
            ]
          },
          "metadata": {
            "tags": []
          },
          "execution_count": 14
        }
      ]
    },
    {
      "cell_type": "markdown",
      "metadata": {
        "id": "45fLne7ETIuE",
        "colab_type": "text"
      },
      "source": [
        " in typical contexts and the information that is contained by these words deer and horse, you have deer and horse are enough closer in similarity because they are both basically mammals."
      ]
    },
    {
      "cell_type": "code",
      "metadata": {
        "id": "Mg_bv4vwTcdR",
        "colab_type": "code",
        "colab": {}
      },
      "source": [
        "#collocations"
      ],
      "execution_count": null,
      "outputs": []
    },
    {
      "cell_type": "markdown",
      "metadata": {
        "id": "hP_jBt4YToL9",
        "colab_type": "text"
      },
      "source": [
        "two words that are frequently appearing in similar concept, in similar contexts are more likely to be similar or more likely to be semantically related."
      ]
    },
    {
      "cell_type": "markdown",
      "metadata": {
        "id": "_oiBOmi5UJWD",
        "colab_type": "text"
      },
      "source": [
        "## Distributional similarity\n",
        "\n",
        "\n",
        "\n",
        "*   words before or after that\n",
        "*   parts of speech of word before or after that\n",
        "*   specific syntactic relation to target word\n",
        "*   words in same sentence,syntax\n",
        "\n",
        "\n",
        "\n"
      ]
    },
    {
      "cell_type": "markdown",
      "metadata": {
        "id": "KkXkD8B8UylS",
        "colab_type": "text"
      },
      "source": [
        "frequency of appearance of words\n",
        "\n",
        "PMI(Pointwise Mutual Information) = log(P(w,c)/P(w)P(c))"
      ]
    },
    {
      "cell_type": "code",
      "metadata": {
        "id": "FyBMxTmIVRhX",
        "colab_type": "code",
        "colab": {}
      },
      "source": [
        "from nltk.collocations import *"
      ],
      "execution_count": 15,
      "outputs": []
    },
    {
      "cell_type": "code",
      "metadata": {
        "id": "E_29b72aVZaE",
        "colab_type": "code",
        "colab": {
          "base_uri": "https://localhost:8080/",
          "height": 191
        },
        "outputId": "acc45c2e-9d8c-476b-f5fb-93888ba4a9cb"
      },
      "source": [
        "text = \"human is a mammal\"\n",
        "bigram_measures = nltk.collocations.BigramAssocMeasures()\n",
        "finder = BigramCollocationFinder.from_words(text)\n",
        "finder.nbest(bigram_measures.pmi,10)"
      ],
      "execution_count": 17,
      "outputs": [
        {
          "output_type": "execute_result",
          "data": {
            "text/plain": [
              "[('h', 'u'),\n",
              " ('i', 's'),\n",
              " (' ', 'i'),\n",
              " ('n', ' '),\n",
              " ('s', ' '),\n",
              " ('a', 'l'),\n",
              " ('a', 'n'),\n",
              " ('u', 'm'),\n",
              " ('m', 'a'),\n",
              " (' ', 'a')]"
            ]
          },
          "metadata": {
            "tags": []
          },
          "execution_count": 17
        }
      ]
    },
    {
      "cell_type": "code",
      "metadata": {
        "id": "olzbzjYWV9b6",
        "colab_type": "code",
        "colab": {}
      },
      "source": [
        ""
      ],
      "execution_count": null,
      "outputs": []
    }
  ]
}