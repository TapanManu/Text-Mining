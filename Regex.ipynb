{
  "nbformat": 4,
  "nbformat_minor": 0,
  "metadata": {
    "colab": {
      "name": "Regex",
      "provenance": [],
      "authorship_tag": "ABX9TyN2lnt+N/X9ciFCpbh6PQBX",
      "include_colab_link": true
    },
    "kernelspec": {
      "name": "python3",
      "display_name": "Python 3"
    }
  },
  "cells": [
    {
      "cell_type": "markdown",
      "metadata": {
        "id": "view-in-github",
        "colab_type": "text"
      },
      "source": [
        "<a href=\"https://colab.research.google.com/github/TapanManu/Text-Mining/blob/master/Regex.ipynb\" target=\"_parent\"><img src=\"https://colab.research.google.com/assets/colab-badge.svg\" alt=\"Open In Colab\"/></a>"
      ]
    },
    {
      "cell_type": "code",
      "metadata": {
        "id": "wPfcMGG6LbNG",
        "colab_type": "code",
        "colab": {}
      },
      "source": [
        "Text = \"For as long as I remember, I just wanted to do what was right @Captain_America #Cap  #Avengers #MCU\""
      ],
      "execution_count": 0,
      "outputs": []
    },
    {
      "cell_type": "code",
      "metadata": {
        "id": "09cUkZeuV-uX",
        "colab_type": "code",
        "colab": {
          "base_uri": "https://localhost:8080/",
          "height": 364
        },
        "outputId": "c2ee4706-596d-4e4d-ea08-cbcf0f14db04"
      },
      "source": [
        "text = Text.split(' ')\n",
        "text"
      ],
      "execution_count": 36,
      "outputs": [
        {
          "output_type": "execute_result",
          "data": {
            "text/plain": [
              "['For',\n",
              " 'as',\n",
              " 'long',\n",
              " 'as',\n",
              " 'I',\n",
              " 'remember,',\n",
              " 'I',\n",
              " 'just',\n",
              " 'wanted',\n",
              " 'to',\n",
              " 'do',\n",
              " 'what',\n",
              " 'was',\n",
              " 'right',\n",
              " '@Captain',\n",
              " 'America',\n",
              " '#Cap',\n",
              " '',\n",
              " '#Avengers',\n",
              " '#MCU']"
            ]
          },
          "metadata": {
            "tags": []
          },
          "execution_count": 36
        }
      ]
    },
    {
      "cell_type": "code",
      "metadata": {
        "id": "ugzSfufHWRRp",
        "colab_type": "code",
        "colab": {
          "base_uri": "https://localhost:8080/",
          "height": 34
        },
        "outputId": "ee522003-5507-4058-d6e7-2a96efe337bb"
      },
      "source": [
        "tweet = \"@nltk Text analysis is awesome! #regex #pandas #python\"\n",
        "tokens = tweet.split(' ')\n",
        "hashtags = [t for t in tokens if t.startswith('#')]\n",
        "hashtags"
      ],
      "execution_count": 37,
      "outputs": [
        {
          "output_type": "execute_result",
          "data": {
            "text/plain": [
              "['#regex', '#pandas', '#python']"
            ]
          },
          "metadata": {
            "tags": []
          },
          "execution_count": 37
        }
      ]
    },
    {
      "cell_type": "code",
      "metadata": {
        "id": "3-evI05zW6sb",
        "colab_type": "code",
        "colab": {
          "base_uri": "https://localhost:8080/",
          "height": 34
        },
        "outputId": "65cf79bf-309a-4269-9c0c-58f363f1492a"
      },
      "source": [
        "## Finding Callouts\n",
        "\n",
        "text = Text.split(' ')\n",
        "\n",
        "#startwith is not sufficient to find callouts\n",
        "\n",
        "import re\n",
        "callouts = [w for w in text if re.search('@[A-Za-z0-9_]+',w)]\n",
        "callouts"
      ],
      "execution_count": 43,
      "outputs": [
        {
          "output_type": "execute_result",
          "data": {
            "text/plain": [
              "['@Captain_America']"
            ]
          },
          "metadata": {
            "tags": []
          },
          "execution_count": 43
        }
      ]
    },
    {
      "cell_type": "markdown",
      "metadata": {
        "id": "2c_KmbpZZOOX",
        "colab_type": "text"
      },
      "source": [
        "## Meta-Characters\n",
        "\n",
        "1.   . : Wild Card Character\n",
        "2.   ^ : Start of string\n",
        "3.   $ : End of string\n",
        "4.   [  ]: Matches One set of characters within [ ]\n",
        "5.   [a-z]:matches with one range of characters a-z\n",
        "6.   [^abc]:matches a character that is not a,b or c\n",
        "7.   a|b: matches either a or b\n",
        "8.   ( ): scoping for operators\n",
        "9.   \\ :escape character for special characters\n",
        "10.   \\b : matches word boundary\n",
        "11.   \\d : matches digit, equivalent to [0-9]\n",
        "12.   \\D : matches non digit , equivalent to [^0-9]\n",
        "13.   \\s : whitespace character ,equivalent to [\\r \\t \\n \\f \\v]\n",
        "14.   \\S : any non whitespace character,equivalent to [ ^ \\r \\t \\n \\f \\v]\n",
        "15.   \\w : any alphanumeric char [a-zA-z0-9_]\n",
        "16.    \\W :non alphanumeric char [^a-zA-Z0-9]\n",
        "17.    \\*  : matches zero or more occurences\n",
        "18.   \\+ : matches one or more occurences\n",
        "19.  ? : matches zero or one occurences\n",
        "20.  {n} : exactly n repetitions n>=0\n",
        "21.  {n, }: at least n repetitions\n",
        "22.  { ,n}: at most n repetitions\n",
        "23.  {m,n}: at least m and atmost n times \n",
        "\n",
        "\n"
      ]
    },
    {
      "cell_type": "code",
      "metadata": {
        "id": "9jJMV4X7YYym",
        "colab_type": "code",
        "colab": {
          "base_uri": "https://localhost:8080/",
          "height": 34
        },
        "outputId": "f3a0e2ef-53e0-4fc6-a891-a1c6805c950d"
      },
      "source": [
        "[w for w in text if re.search('@\\w+',w)]"
      ],
      "execution_count": 44,
      "outputs": [
        {
          "output_type": "execute_result",
          "data": {
            "text/plain": [
              "['@Captain_America']"
            ]
          },
          "metadata": {
            "tags": []
          },
          "execution_count": 44
        }
      ]
    },
    {
      "cell_type": "code",
      "metadata": {
        "id": "06-YMR-XcvRA",
        "colab_type": "code",
        "colab": {
          "base_uri": "https://localhost:8080/",
          "height": 34
        },
        "outputId": "f847abaa-b5b4-4529-e184-9e539f53960f"
      },
      "source": [
        "name = \"Captain America\"\n",
        "\n",
        "## finding vowels \n",
        "\n",
        "re.findall(r'[aeiou]',name)"
      ],
      "execution_count": 45,
      "outputs": [
        {
          "output_type": "execute_result",
          "data": {
            "text/plain": [
              "['a', 'a', 'i', 'e', 'i', 'a']"
            ]
          },
          "metadata": {
            "tags": []
          },
          "execution_count": 45
        }
      ]
    },
    {
      "cell_type": "code",
      "metadata": {
        "id": "x23n9CgGdG5R",
        "colab_type": "code",
        "colab": {
          "base_uri": "https://localhost:8080/",
          "height": 34
        },
        "outputId": "e0c53af8-9367-4ec9-8d63-f7ea07071648"
      },
      "source": [
        "re.findall(r'[^aeiou]',name)"
      ],
      "execution_count": 46,
      "outputs": [
        {
          "output_type": "execute_result",
          "data": {
            "text/plain": [
              "['C', 'p', 't', 'n', ' ', 'A', 'm', 'r', 'c']"
            ]
          },
          "metadata": {
            "tags": []
          },
          "execution_count": 46
        }
      ]
    },
    {
      "cell_type": "code",
      "metadata": {
        "id": "YAUS87v7dTNy",
        "colab_type": "code",
        "colab": {
          "base_uri": "https://localhost:8080/",
          "height": 52
        },
        "outputId": "3d64e03e-e11b-4632-d94d-213f6d0a66ce"
      },
      "source": [
        "Datesstr = \"20-04-2000\\n04-20-2000\\nApr 20,2000\\n20 April 2000\\n20/04/2000\\n04/20/2000\\n20/04/00\\n20 Apr 00\"\n",
        "print(re.findall(r'\\d{2}[-/]\\d{2}[-/]\\d{4}',Datesstr))\n",
        "print(re.findall(r'\\d{1,2}[/-]\\d{1,2}[/-]\\d{2,4}',Datesstr))\n"
      ],
      "execution_count": 55,
      "outputs": [
        {
          "output_type": "stream",
          "text": [
            "['20-04-2000', '04-20-2000', '20/04/2000', '04/20/2000']\n",
            "['20-04-2000', '04-20-2000', '20/04/2000', '04/20/2000', '20/04/00']\n"
          ],
          "name": "stdout"
        }
      ]
    },
    {
      "cell_type": "code",
      "metadata": {
        "id": "Kmb9LfvsfSmk",
        "colab_type": "code",
        "colab": {
          "base_uri": "https://localhost:8080/",
          "height": 34
        },
        "outputId": "bd5442ce-1b02-43b5-e905-bfbd720536cd"
      },
      "source": [
        "re.findall(r'\\d{1,2} (Jan|Feb|Mar|Apr) \\d{2,4}',Datesstr) #other months should be included"
      ],
      "execution_count": 52,
      "outputs": [
        {
          "output_type": "execute_result",
          "data": {
            "text/plain": [
              "['Apr']"
            ]
          },
          "metadata": {
            "tags": []
          },
          "execution_count": 52
        }
      ]
    },
    {
      "cell_type": "code",
      "metadata": {
        "id": "5vf7lmmPf33l",
        "colab_type": "code",
        "colab": {
          "base_uri": "https://localhost:8080/",
          "height": 34
        },
        "outputId": "54aa22df-1f74-42d8-c7e5-586990285614"
      },
      "source": [
        "re.findall(r'\\d{1,2} (?:Jan|Feb|Mar|Apr) \\d{2,4}',Datesstr) #other months should be included"
      ],
      "execution_count": 57,
      "outputs": [
        {
          "output_type": "execute_result",
          "data": {
            "text/plain": [
              "['20 Apr 00']"
            ]
          },
          "metadata": {
            "tags": []
          },
          "execution_count": 57
        }
      ]
    },
    {
      "cell_type": "code",
      "metadata": {
        "id": "zTwtGcyHgFrr",
        "colab_type": "code",
        "colab": {
          "base_uri": "https://localhost:8080/",
          "height": 34
        },
        "outputId": "bc7bcd20-b110-4ec4-845a-b4079403ed24"
      },
      "source": [
        "re.findall(r'\\d{1,2} (?:Jan|Feb|Mar|Apr)[a-z]* \\d{2,4}',Datesstr) #other months should be included"
      ],
      "execution_count": 56,
      "outputs": [
        {
          "output_type": "execute_result",
          "data": {
            "text/plain": [
              "['20 April 2000', '20 Apr 00']"
            ]
          },
          "metadata": {
            "tags": []
          },
          "execution_count": 56
        }
      ]
    },
    {
      "cell_type": "code",
      "metadata": {
        "id": "hWBxiZdrgiml",
        "colab_type": "code",
        "colab": {
          "base_uri": "https://localhost:8080/",
          "height": 34
        },
        "outputId": "bd0ecfbe-6d8d-4b60-be73-f3de194dd08b"
      },
      "source": [
        "re.findall(r'(?:\\d{2} )?(?:Jan|Feb|Mar|Apr)[a-z]* (?:\\d{2}, )?\\d{4}',Datesstr) #other months should be included"
      ],
      "execution_count": 71,
      "outputs": [
        {
          "output_type": "execute_result",
          "data": {
            "text/plain": [
              "['20 April 2000']"
            ]
          },
          "metadata": {
            "tags": []
          },
          "execution_count": 71
        }
      ]
    }
  ]
}